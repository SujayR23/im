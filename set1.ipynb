{
 "cells": [
  {
   "cell_type": "code",
   "execution_count": 1,
   "metadata": {},
   "outputs": [
    {
     "name": "stdout",
     "output_type": "stream",
     "text": [
      "[[[27 35 27]\n",
      "  [28 36 28]\n",
      "  [30 38 30]\n",
      "  ...\n",
      "  [ 9  1  8]\n",
      "  [11  1  8]\n",
      "  [11  1  8]]\n",
      "\n",
      " [[29 37 29]\n",
      "  [30 38 30]\n",
      "  [32 40 32]\n",
      "  ...\n",
      "  [ 9  1  8]\n",
      "  [10  2  9]\n",
      "  [10  2  9]]\n",
      "\n",
      " [[32 40 32]\n",
      "  [33 41 33]\n",
      "  [34 42 34]\n",
      "  ...\n",
      "  [ 8  2  9]\n",
      "  [ 9  3 10]\n",
      "  [10  2  9]]\n",
      "\n",
      " ...\n",
      "\n",
      " [[16 25 23]\n",
      "  [16 25 23]\n",
      "  [16 25 23]\n",
      "  ...\n",
      "  [ 6  8 13]\n",
      "  [ 5  9 14]\n",
      "  [ 4 10 15]]\n",
      "\n",
      " [[15 24 22]\n",
      "  [15 24 22]\n",
      "  [16 25 23]\n",
      "  ...\n",
      "  [ 6  8 13]\n",
      "  [ 2 10 15]\n",
      "  [ 1 11 16]]\n",
      "\n",
      " [[15 24 22]\n",
      "  [15 24 22]\n",
      "  [16 25 23]\n",
      "  ...\n",
      "  [ 5  9 14]\n",
      "  [ 2 10 15]\n",
      "  [ 1 11 16]]]\n"
     ]
    }
   ],
   "source": [
    "import cv2\n",
    "import numpy as np\n",
    "\n",
    "# Load the two images\n",
    "image1 = cv2.imread('imag1.jpg')\n",
    "image2 = cv2.imread('imag2.jpg')\n",
    "\n",
    "# Ensure both images are the same size\n",
    "if image1.shape != image2.shape:\n",
    "    print(\"Error: Images must have the same dimensions.\")\n",
    "else:\n",
    "    # Compute the absolute difference between the two images\n",
    "    output_image = cv2.absdiff(image1, image2)\n",
    "    print(output_image)\n",
    "\n",
    "    # Display the output image\n",
    "    cv2.imshow(\"Absolute Difference\", output_image)\n",
    "\n",
    "    # Wait until a key is pressed and close the windows\n",
    "    cv2.waitKey(0)\n",
    "    cv2.destroyAllWindows()\n"
   ]
  },
  {
   "cell_type": "code",
   "execution_count": 7,
   "metadata": {},
   "outputs": [
    {
     "name": "stdout",
     "output_type": "stream",
     "text": [
      "[0.38221026 0.01697378 0.00441307 ... 0.11042884 0.12213421 0.25482789]\n"
     ]
    }
   ],
   "source": [
    "import cv2\n",
    "import numpy as np\n",
    "from skimage.feature import hog\n",
    "from skimage import exposure\n",
    "\n",
    "# Load and preprocess the image to 64x128\n",
    "image = cv2.imread('imag1.jpg', cv2.IMREAD_GRAYSCALE)\n",
    "image = cv2.resize(image, (64, 128))\n",
    "\n",
    "# Step 2: Calculate Gradients (x and y directions)\n",
    "gradient_x = cv2.Sobel(image, cv2.CV_64F, 1, 0, ksize=1)\n",
    "gradient_y = cv2.Sobel(image, cv2.CV_64F, 0, 1, ksize=1)\n",
    "\n",
    "# Step 3: Calculate the Magnitude and Orientation\n",
    "magnitude = np.sqrt(gradient_x**2 + gradient_y**2)\n",
    "orientation = np.arctan2(gradient_y, gradient_x) * (180 / np.pi) % 180  # Converting to degrees in [0, 180]\n",
    "\n",
    "# Step 4 & 5: Calculate Histogram of Gradients in 8×8 cells and normalize in 16×16 cells\n",
    "# Define HOG parameters\n",
    "cell_size = (8, 8)    # Each cell is 8x8 pixels\n",
    "block_size = (2, 2)   # Each block contains 2x2 cells (16x16 pixels)\n",
    "nbins = 9             # Number of orientation bins\n",
    "\n",
    "# Compute HOG features\n",
    "hog_features, hog_image = hog(image,\n",
    "                              orientations=nbins,\n",
    "                              pixels_per_cell=cell_size,\n",
    "                              cells_per_block=block_size,\n",
    "                              block_norm='L2-Hys',\n",
    "                              visualize=True,\n",
    "                              transform_sqrt=True)\n",
    "\n",
    "print(hog_features)\n",
    "\n",
    "# Step 6: Display HOG features for the complete image\n",
    "hog_image_rescaled = exposure.rescale_intensity(hog_image, in_range=(0, 10))\n",
    "\n",
    "# Show original and HOG images\n",
    "cv2.imshow(\"Original Image\", image)\n",
    "cv2.imshow(\"HOG Features\", hog_image_rescaled)\n",
    "cv2.waitKey(0)\n",
    "cv2.destroyAllWindows()\n"
   ]
  }
 ],
 "metadata": {
  "kernelspec": {
   "display_name": "Python 3",
   "language": "python",
   "name": "python3"
  },
  "language_info": {
   "codemirror_mode": {
    "name": "ipython",
    "version": 3
   },
   "file_extension": ".py",
   "mimetype": "text/x-python",
   "name": "python",
   "nbconvert_exporter": "python",
   "pygments_lexer": "ipython3",
   "version": "3.11.9"
  }
 },
 "nbformat": 4,
 "nbformat_minor": 2
}
